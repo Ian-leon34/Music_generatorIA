{
  "nbformat": 4,
  "nbformat_minor": 0,
  "metadata": {
    "colab": {
      "provenance": [],
      "authorship_tag": "ABX9TyMmhhwUbM7po4U8CpM/5aX+",
      "include_colab_link": true
    },
    "kernelspec": {
      "name": "python3",
      "display_name": "Python 3"
    },
    "language_info": {
      "name": "python"
    }
  },
  "cells": [
    {
      "cell_type": "markdown",
      "metadata": {
        "id": "view-in-github",
        "colab_type": "text"
      },
      "source": [
        "<a href=\"https://colab.research.google.com/github/Ian-leon34/Music_generatorIA/blob/main/PROMPT_FINAL.ipynb\" target=\"_parent\"><img src=\"https://colab.research.google.com/assets/colab-badge.svg\" alt=\"Open In Colab\"/></a>"
      ]
    },
    {
      "cell_type": "markdown",
      "source": [
        "Resultados del trabajo con ChatGPT y adaptacion propia del codigo:"
      ],
      "metadata": {
        "id": "1Oso9b0L890N"
      }
    },
    {
      "cell_type": "code",
      "source": [
        "from music21 import stream, note, scale\n",
        "\n",
        "# Define la tonalidad con un séptimo grado bemol (Bb) en la tonalidad de Do mayor (C Major)\n",
        "tonalidad = scale.MajorScale('C')\n",
        "tonalidad.getPitches()[7] = tonalidad.getPitches()[7].transpose(-1)  # Cambiar el séptimo grado a Bb\n",
        "\n",
        "# Crea un objeto Stream para la secuencia de blues\n",
        "secuencia_blues = stream.Stream()\n",
        "\n",
        "# Define una secuencia de grados para la secuencia de blues\n",
        "grados = [1, 3, 5, 6, 7, 6, 5, 3,\n",
        "          1, 3, 5, 6, 7, 6, 5, 3,\n",
        "          1, 3, 5, 6, 7, 6, 5, 3,\n",
        "          1, 3, 5, 6, 7, 6, 5, 3,\n",
        "          4, 6, 1, 2, 3, 2, 1, 6,\n",
        "          4, 6, 1, 2, 3, 2, 1, 6,\n",
        "          1, 3, 5, 6, 7, 6, 5, 3,\n",
        "          1, 3, 5, 6, 7, 6, 5, 3,\n",
        "          5, 7, 2, 7, 5, 7, 2, 7,\n",
        "          4, 6, 1, 6, 4, 6, 1, 6,\n",
        "          1, 3, 5, 6, 7, 6, 5, 3,\n",
        "          1, 3, 5, 6, 7, 6, 5, 3,]\n",
        "\n",
        "# Duración de las notas (en fracciones)\n",
        "duraciones = [1/2, 1/2, 1/2, 1/2, 1/2, 1/2, 1/2, 1/2,\n",
        "              1/2, 1/2, 1/2, 1/2, 1/2, 1/2, 1/2, 1/2,\n",
        "              1/2, 1/2, 1/2, 1/2, 1/2, 1/2, 1/2, 1/2,\n",
        "              1/2, 1/2, 1/2, 1/2, 1/2, 1/2, 1/2, 1/2,\n",
        "              1/2, 1/2, 1/2, 1/2, 1/2, 1/2, 1/2, 1/2,\n",
        "              1/2, 1/2, 1/2, 1/2, 1/2, 1/2, 1/2, 1/2,\n",
        "              1/2, 1/2, 1/2, 1/2, 1/2, 1/2, 1/2, 1/2,\n",
        "              1/2, 1/2, 1/2, 1/2, 1/2, 1/2, 1/2, 1/2,\n",
        "              1/2, 1/2, 1/2, 1/2, 1/2, 1/2, 1/2, 1/2,\n",
        "              1/2, 1/2, 1/2, 1/2, 1/2, 1/2, 1/2, 1/2,\n",
        "              1/2, 1/2, 1/2, 1/2, 1/2, 1/2, 1/2, 1/2,\n",
        "              1/2, 1/2, 1/2, 1/2, 1/2, 1/2, 1/2, 1/2]\n",
        "\n",
        "\n",
        "# Función para bajar medio tono un grado específico\n",
        "def bajar_medio_tono(grado):\n",
        "    return round(grado - 0.5)\n",
        "\n",
        "# Grados que deseas modificar bajando medio tono (por ejemplo, el segundo y el quinto grado)\n",
        "grados_modificar = [4, 12, 20, 28, 36, 44, 52, 60, 84, 92]\n",
        "\n",
        "# Grados que deseas poner una octava arriba (por ejemplo, el primer y el cuarto grado)\n",
        "grados_octava_arriba = [34, 35, 36, 37, 38, 42, 43, 44, 45, 46, 66, 70, 74, 78]\n",
        "\n",
        "# Agrega notas a la secuencia de blues en la tonalidad elegida\n",
        "for i, grado in enumerate(grados):\n",
        "    if i in grados_octava_arriba:  # Si es uno de los grados que deseas cambiar\n",
        "        # Cambia la altura del grado a una octava arriba\n",
        "        nota = tonalidad.pitchFromDegree(grado).transpose(12)\n",
        "    elif i in grados_modificar:  # Si es uno de los grados que deseas cambiar bajando medio tono\n",
        "        # Baja medio tono el grado\n",
        "        nota = tonalidad.pitchFromDegree(bajar_medio_tono(grado))\n",
        "    else:\n",
        "        nota = tonalidad.pitchFromDegree(grado)\n",
        "    nueva_nota = note.Note(nota)\n",
        "    nueva_nota.duration.quarterLength = duraciones[i]\n",
        "    secuencia_blues.append(nueva_nota)\n",
        "\n",
        "# Exporta la secuencia de blues a un archivo MIDI\n",
        "secuencia_blues.write('midi', 'secuencia_blues_varios_grados_modificados.mid')"
      ],
      "metadata": {
        "colab": {
          "base_uri": "https://localhost:8080/",
          "height": 56
        },
        "id": "fNjtbUa5I2mr",
        "outputId": "f8f5741c-d8ac-4c3f-ba17-2db3dd61e302"
      },
      "execution_count": 1,
      "outputs": [
        {
          "output_type": "execute_result",
          "data": {
            "text/plain": [
              "'secuencia_blues_varios_grados_modificados.mid'"
            ],
            "application/vnd.google.colaboratory.intrinsic+json": {
              "type": "string"
            }
          },
          "metadata": {},
          "execution_count": 1
        }
      ]
    },
    {
      "cell_type": "code",
      "source": [
        "from music21 import stream, chord, scale, note\n",
        "\n",
        "# Define la tonalidad (ingresa la tonalidad que desees, por ejemplo, 'C Major')\n",
        "tonalidad = scale.MajorScale('C')\n",
        "\n",
        "# Define una secuencia de acordes para los 12 compases del blues\n",
        "acordes_blues = [chord.Chord(['C4', 'E4', 'G4']),  # C Major\n",
        "                 chord.Chord(['C4', 'E4', 'G4']),  # C Major\n",
        "                 chord.Chord(['C4', 'E4', 'G4']),  # C Major\n",
        "                 chord.Chord(['C4', 'E4', 'G4']),  # C Major\n",
        "                 chord.Chord(['F4', 'A4', 'C5']),  # F Major\n",
        "                 chord.Chord(['F4', 'A4', 'C5']),  # F Major\n",
        "                 chord.Chord(['C4', 'E4', 'G4']),  # C Major\n",
        "                 chord.Chord(['C4', 'E4', 'G4']),  # C Major\n",
        "                 chord.Chord(['G4', 'B4', 'D5']),  # G Major\n",
        "                 chord.Chord(['F4', 'A4', 'C5']),  # F Major\n",
        "                 chord.Chord(['C4', 'E4', 'G4']),  # C Major\n",
        "                 chord.Chord(['G4', 'B4', 'D5'])]  # G Major\n",
        "\n",
        "# Define las notas del bajo caminante\n",
        "bajo_caminante = [note.Note('C2'), note.Note('E2'), note.Note('D2'), note.Note('D2')]\n",
        "\n",
        "# Crea un objeto Stream para la secuencia de blues\n",
        "secuencia_blues = stream.Stream()\n",
        "\n",
        "# Agrega los compases de blues con bajo caminante\n",
        "for acorde in acordes_blues:\n",
        "    compas = stream.Measure()\n",
        "    compas.append(acorde)\n",
        "    compas.append(bajo_caminante)\n",
        "    secuencia_blues.append(compas)\n",
        "\n",
        "# Exporta la secuencia de blues a un archivo MIDI\n",
        "secuencia_blues.write('midi', 'secuencia_blues3.mid')"
      ],
      "metadata": {
        "colab": {
          "base_uri": "https://localhost:8080/",
          "height": 56
        },
        "id": "W8i8WESHJ8PM",
        "outputId": "f6bbf2ac-592e-4fec-87bc-5a0621777cd6"
      },
      "execution_count": 2,
      "outputs": [
        {
          "output_type": "execute_result",
          "data": {
            "text/plain": [
              "'secuencia_blues3.mid'"
            ],
            "application/vnd.google.colaboratory.intrinsic+json": {
              "type": "string"
            }
          },
          "metadata": {},
          "execution_count": 2
        }
      ]
    },
    {
      "cell_type": "code",
      "source": [
        "from music21 import stream, note, chord\n",
        "\n",
        "# Define la tonalidad (C Major)\n",
        "tonalidad = 'C Major'\n",
        "\n",
        "# Define una progresión de acordes de blues en tonalidad de Do mayor (C Major) de 12 compases\n",
        "acordes_blues = [chord.Chord(['C4', 'E4', 'G4', 'B4']),  # C7\n",
        "                 chord.Chord(['F3', 'A3', 'C4', 'E4']),  # F7\n",
        "                 chord.Chord(['C4', 'E4', 'G4', 'B4']),  # C7\n",
        "                 chord.Chord(['G3', 'B3', 'D4', 'F4']),  # G7\n",
        "                 chord.Chord(['F3', 'A3', 'C4', 'E4']),  # F7\n",
        "                 chord.Chord(['C4', 'E4', 'G4', 'B4']),  # C7\n",
        "                 chord.Chord(['C4', 'E4', 'G4', 'B4']),  # C7\n",
        "                 chord.Chord(['G3', 'B3', 'D4', 'F4']),  # G7\n",
        "                 chord.Chord(['F3', 'A3', 'C4', 'E4']),  # F7\n",
        "                 chord.Chord(['C4', 'E4', 'G4', 'B4']),  # C7\n",
        "                 chord.Chord(['F3', 'A3', 'C4', 'E4']),  # F7\n",
        "                 chord.Chord(['C4', 'E4', 'G4', 'B4'])]  # C7\n",
        "\n",
        "# Crea un objeto Stream para el bajo caminante\n",
        "bajo_caminante = stream.Stream()\n",
        "\n",
        "# Define las notas de bajo caminante\n",
        "notas_bajo = ['C2', 'E2', 'F2', 'F2', 'G2', 'E2', 'C2', 'E2', 'G2', 'G2', 'F2', 'E2']\n",
        "\n",
        "# Agrega las notas de bajo a cada compás de la progresión\n",
        "for acorde, nota_bajo in zip(acordes_blues, notas_bajo):\n",
        "    compas = stream.Measure()\n",
        "    compas.append(acorde)\n",
        "    compas.append(note.Note(nota_bajo))\n",
        "    bajo_caminante.append(compas)\n",
        "\n",
        "# Exporta el bajo caminante como un archivo MIDI\n",
        "bajo_caminante.write('midi', 'bajo_caminante_blues.mid')"
      ],
      "metadata": {
        "colab": {
          "base_uri": "https://localhost:8080/",
          "height": 56
        },
        "id": "6jHs5d1mNVcv",
        "outputId": "cb727350-a29c-4c7e-a4a9-cb07af3e6215"
      },
      "execution_count": 3,
      "outputs": [
        {
          "output_type": "execute_result",
          "data": {
            "text/plain": [
              "'bajo_caminante_blues.mid'"
            ],
            "application/vnd.google.colaboratory.intrinsic+json": {
              "type": "string"
            }
          },
          "metadata": {},
          "execution_count": 3
        }
      ]
    },
    {
      "cell_type": "markdown",
      "source": [
        "Otra variante de los resultados del codigo anterior:"
      ],
      "metadata": {
        "id": "zrd2fFmB9h7p"
      }
    },
    {
      "cell_type": "code",
      "source": [
        "from music21 import stream, note, chord\n",
        "\n",
        "# Define la tonalidad (C Major)\n",
        "tonalidad = 'C Major'\n",
        "\n",
        "# Define una progresión de acordes de blues en tonalidad de Do mayor (C Major)\n",
        "acordes_blues = [chord.Chord(['C4', 'E4', 'G4', 'B4']),  # C7\n",
        "                 chord.Chord(['F3', 'A3', 'C4', 'E4']),  # F7\n",
        "                 chord.Chord(['C4', 'E4', 'G4', 'B4']),  # C7\n",
        "                 chord.Chord(['G3', 'B3', 'D4', 'F4'])]  # G7\n",
        "\n",
        "# Crea un objeto Stream para el bajo caminante\n",
        "bajo_caminante = stream.Stream()\n",
        "\n",
        "# Define las notas de bajo caminante\n",
        "notas_bajo = ['C2', 'E2', 'F2', 'F2', 'G2', 'E2', 'C2', 'E2', 'G2', 'G2', 'F2', 'E2']\n",
        "\n",
        "# Agrega las notas de bajo al bajo caminante\n",
        "for acorde, nota_bajo in zip(acordes_blues, notas_bajo):\n",
        "    compas = stream.Measure()\n",
        "    compas.append(acorde)\n",
        "    compas.append(note.Note(nota_bajo))\n",
        "    bajo_caminante.append(compas)\n",
        "\n",
        "# Exporta el bajo caminante como un archivo MIDI\n",
        "bajo_caminante.write('midi', 'bajo_caminante.mid')"
      ],
      "metadata": {
        "colab": {
          "base_uri": "https://localhost:8080/",
          "height": 56
        },
        "id": "96wdoqPdMGlU",
        "outputId": "14789bf7-334a-4b24-9744-4d7e03b74ca9"
      },
      "execution_count": 4,
      "outputs": [
        {
          "output_type": "execute_result",
          "data": {
            "text/plain": [
              "'bajo_caminante.mid'"
            ],
            "application/vnd.google.colaboratory.intrinsic+json": {
              "type": "string"
            }
          },
          "metadata": {},
          "execution_count": 4
        }
      ]
    }
  ]
}